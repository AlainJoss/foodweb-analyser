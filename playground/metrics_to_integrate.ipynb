{
 "cells": [
  {
   "cell_type": "markdown",
   "source": [
    "# Analysis Playground"
   ],
   "metadata": {
    "collapsed": false
   }
  },
  {
   "cell_type": "code",
   "execution_count": null,
   "outputs": [],
   "source": [
    "def graph_algorithm(graph, algorithm):\n",
    "    algorithm_funcs = {\n",
    "        'in_degree': lambda g: dict(g.in_degree()),\n",
    "        'out_degree': lambda g: dict(g.out_degree()),\n",
    "        'total_degree': lambda g: dict(g.degree()),\n",
    "        'node_betweenness': lambda g: nx.betweenness_centrality(g, normalized=False),\n",
    "        'edge_betweenness': lambda g: nx.edge_betweenness_centrality(g, normalized=False),\n",
    "        'inward_closeness': lambda g: nx.closeness_centrality(g),\n",
    "        'outward_closeness': lambda g: nx.closeness_centrality(g),\n",
    "        'pagerank': nx.pagerank,\n",
    "        'local_clustering_coefficient': nx.clustering,\n",
    "        'weakly_connected_components': lambda g: list(nx.weakly_connected_components(g)),\n",
    "        'strongly_connected_components': lambda g: list(nx.strongly_connected_components(g)),\n",
    "        'density': nx.density,\n",
    "        'global_clustering_coefficient': fca.global_clustering_coefficient,\n",
    "        'trophic_incoherence': nx.trophic_incoherence_parameter,\n",
    "        'trophic_levels': nx.trophic_levels,\n",
    "        'node_connectivity': nx.node_connectivity,\n",
    "        'edge_connectivity': nx.edge_connectivity,\n",
    "        'minimum_node_cut': nx.minimum_node_cut,\n",
    "        'minimum_edge_cut': nx.minimum_edge_cut,\n",
    "        'apex_predators': fca.apex_predators,\n",
    "        'basal_species': fca.basal_species,\n",
    "        'cannibal_species': fca.cannibal_species,\n",
    "        'shortest_path_length': fca.compute_shortest_path_length,\n",
    "        'average_shortest_path_length': fca.average_shortest_path_length,\n",
    "        'diameter': fca.diameter,\n",
    "        'find_cliques': fca.find_cliques,\n",
    "        'max_clique': nx.approximation.max_clique,\n",
    "        'node_clique_number': nx.node_clique_number,\n",
    "        'k_core': fca.k_core,\n",
    "        'core_number': nx.core_number,\n",
    "        'onion_layers': nx.onion_layers,\n",
    "        'bridges': nx.bridges,\n",
    "        'eccentricity': fca.eccentricity,\n",
    "        'radius': fca.radius,\n",
    "        'periphery': fca.periphery,\n",
    "        'center': fca.center,\n",
    "    }\n",
    "\n",
    "    if algorithm not in algorithm_funcs:\n",
    "        raise ValueError(f\"Invalid algorithm: {algorithm}\")\n",
    "\n",
    "    return algorithm_funcs[algorithm](graph)\n"
   ],
   "metadata": {
    "collapsed": false
   }
  },
  {
   "cell_type": "code",
   "execution_count": null,
   "outputs": [],
   "source": [],
   "metadata": {
    "collapsed": false
   }
  },
  {
   "cell_type": "code",
   "execution_count": 2,
   "outputs": [
    {
     "name": "stdout",
     "output_type": "stream",
     "text": [
      "Intel MKL WARNING: Support of Intel(R) Streaming SIMD Extensions 4.2 (Intel(R) SSE4.2) enabled only processors has been deprecated. Intel oneAPI Math Kernel Library 2025.0 will require Intel(R) Advanced Vector Extensions (Intel(R) AVX) instructions.\n",
      "Intel MKL WARNING: Support of Intel(R) Streaming SIMD Extensions 4.2 (Intel(R) SSE4.2) enabled only processors has been deprecated. Intel oneAPI Math Kernel Library 2025.0 will require Intel(R) Advanced Vector Extensions (Intel(R) AVX) instructions.\n"
     ]
    }
   ],
   "source": [
    "import networkx as nx\n",
    "import pandas as pd\n",
    "import numpy as np\n",
    "from tqdm import tqdm\n",
    "import matplotlib.pyplot as plt"
   ],
   "metadata": {
    "collapsed": false,
    "ExecuteTime": {
     "end_time": "2023-06-19T10:51:21.477383Z",
     "start_time": "2023-06-19T10:51:19.875433Z"
    }
   }
  },
  {
   "cell_type": "code",
   "execution_count": 3,
   "outputs": [
    {
     "name": "stderr",
     "output_type": "stream",
     "text": [
      "100%|██████████| 22/22 [00:00<00:00, 9255.23it/s]\n"
     ]
    }
   ],
   "source": [
    "#################################################\n",
    "# Mock names for 10 nodes\n",
    "names = [str(i) for i in range(0, 12)]\n",
    "\n",
    "# Create a list of tuples for 25 edges\n",
    "edges = [\n",
    "    (names[0], names[10]),\n",
    "    (names[0], names[11]),\n",
    "    (names[10], names[11]),\n",
    "    (names[0], names[2]),\n",
    "    (names[1], names[2]),\n",
    "    (names[1], names[4]),\n",
    "    (names[2], names[5]),\n",
    "    (names[3], names[4]),\n",
    "    (names[3], names[6]),\n",
    "    (names[4], names[5]),\n",
    "    (names[4], names[7]),\n",
    "    (names[6], names[7]),\n",
    "    (names[6], names[9]),\n",
    "    (names[7], names[8]),\n",
    "    (names[2], names[4]),\n",
    "    (names[6], names[8]),\n",
    "    (names[1], names[5]),\n",
    "    (names[2], names[6]),\n",
    "    (names[4], names[8]),\n",
    "    (names[5], names[7]),\n",
    "    (names[1], names[7]),\n",
    "    (names[2], names[7])\n",
    "]\n",
    "\n",
    "# Create a mock DataFrame\n",
    "edge_data_df = pd.DataFrame(edges, columns=['Source_Name', 'Target_Name'])\n",
    "\n",
    "# Add some mock edge attributes\n",
    "edge_data_df['Weight'] = np.random.randint(1, 10, size=len(edge_data_df))\n",
    "edge_data_df['Color'] = np.random.choice(['red', 'blue', 'green'], size=len(edge_data_df))\n",
    "\n",
    "# Create an empty directed graph\n",
    "G = nx.DiGraph()\n",
    "\n",
    "# Iterate through the rows of the DataFrame and add edges with attributes\n",
    "for _, row in tqdm(edge_data_df.iterrows(), total=len(edge_data_df)):\n",
    "    source = row['Source_Name']\n",
    "    target = row['Target_Name']\n",
    "    edge_attrs = {k: v for k, v in row.items() if k not in ['Source_Name', 'Target_Name']}\n",
    "    G.add_edge(source, target, **edge_attrs)\n",
    "\n",
    "undirected_G = G.to_undirected()\n",
    "################################################"
   ],
   "metadata": {
    "collapsed": false,
    "ExecuteTime": {
     "end_time": "2023-06-19T10:51:21.515434Z",
     "start_time": "2023-06-19T10:51:21.487066Z"
    }
   }
  },
  {
   "cell_type": "markdown",
   "source": [
    "# Sub-graph Characterization\n",
    "- k-clique\n",
    "- k-core"
   ],
   "metadata": {
    "collapsed": false
   }
  },
  {
   "cell_type": "markdown",
   "source": [
    "### k-cliques"
   ],
   "metadata": {
    "collapsed": false
   }
  },
  {
   "cell_type": "code",
   "execution_count": 59,
   "outputs": [
    {
     "data": {
      "text/plain": "[['2', '0'],\n ['2', '7', '1', '5', '4'],\n ['2', '7', '6'],\n ['8', '7', '4'],\n ['8', '7', '6'],\n ['10', '11', '0'],\n ['3', '4'],\n ['3', '6'],\n ['9', '6']]"
     },
     "execution_count": 59,
     "metadata": {},
     "output_type": "execute_result"
    }
   ],
   "source": [
    "# Returns all maximal cliques in an undirected graph.\n",
    "list(nx.find_cliques(undirected_G))"
   ],
   "metadata": {
    "collapsed": false
   }
  },
  {
   "cell_type": "code",
   "execution_count": 60,
   "outputs": [
    {
     "data": {
      "text/plain": "{'1', '4', '5', '7'}"
     },
     "execution_count": 60,
     "metadata": {},
     "output_type": "execute_result"
    }
   ],
   "source": [
    "# approximates the maximal clique\n",
    "nx.approximation.max_clique(undirected_G)"
   ],
   "metadata": {
    "collapsed": false
   }
  },
  {
   "cell_type": "code",
   "execution_count": 61,
   "outputs": [
    {
     "data": {
      "text/plain": "<Figure size 400x400 with 1 Axes>",
      "image/png": "[encoded data removed]"
     },
     "metadata": {},
     "output_type": "display_data"
    },
    {
     "name": "stdout",
     "output_type": "stream",
     "text": [
      "The largest clique:  ['2', '7', '1', '5', '4']\n"
     ]
    }
   ],
   "source": [
    "# Draw the maximum clique\n",
    "\n",
    "# Compute all cliques\n",
    "cliques = list(nx.find_cliques(undirected_G))\n",
    "\n",
    "# Find the largest clique\n",
    "largest_clique = max(cliques, key=len)\n",
    "\n",
    "# Create a color map for the nodes\n",
    "node_colors = []\n",
    "for node in undirected_G.nodes:\n",
    "    if node in largest_clique:\n",
    "        node_colors.append('red')  # Color for nodes in the largest clique\n",
    "    else:\n",
    "        node_colors.append('lightblue')  # Color for all other nodes\n",
    "\n",
    "# Similarly, create a color map for the edges\n",
    "edge_colors = []\n",
    "for edge in undirected_G.edges:\n",
    "    if edge[0] in largest_clique and edge[1] in largest_clique:\n",
    "        edge_colors.append('red')  # Color for edges in the largest clique\n",
    "    else:\n",
    "        edge_colors.append('lightgrey')  # Color for all other edges\n",
    "\n",
    "# Draw the graph\n",
    "plt.figure(figsize=(4, 4))\n",
    "nx.draw(undirected_G, node_color=node_colors, edge_color=edge_colors, with_labels=True)\n",
    "plt.show()\n",
    "\n",
    "# Print the largest clique\n",
    "print(\"The largest clique: \", largest_clique)"
   ],
   "metadata": {
    "collapsed": false
   }
  },
  {
   "cell_type": "code",
   "execution_count": 62,
   "outputs": [
    {
     "data": {
      "text/plain": "['2', '0', '7', '1', '5', '4', '6', '8', '10', '11', '3', '9']"
     },
     "execution_count": 62,
     "metadata": {},
     "output_type": "execute_result"
    }
   ],
   "source": [
    "# Returns the size of the largest maximal clique containing each given node.\n",
    "list(nx.node_clique_number(undirected_G))"
   ],
   "metadata": {
    "collapsed": false
   }
  },
  {
   "cell_type": "markdown",
   "source": [
    "### k-cores"
   ],
   "metadata": {
    "collapsed": false
   }
  },
  {
   "cell_type": "code",
   "execution_count": 63,
   "outputs": [
    {
     "name": "stdout",
     "output_type": "stream",
     "text": [
      "The 1-core contains the nodes: ['0', '10', '11', '2', '1', '4', '5', '3', '6', '7', '9', '8']\n",
      "The 2-core contains the nodes: ['0', '10', '11', '2', '1', '4', '5', '3', '6', '7', '8']\n",
      "The 3-core contains the nodes: ['2', '1', '4', '5', '6', '7', '8']\n",
      "The 4-core contains the nodes: ['2', '7', '1', '4', '5']\n",
      "The 5-core contains the nodes: []\n",
      "The 6-core contains the nodes: []\n",
      "The 7-core contains the nodes: []\n",
      "The 8-core contains the nodes: []\n",
      "The 9-core contains the nodes: []\n",
      "The 10-core contains the nodes: []\n"
     ]
    }
   ],
   "source": [
    "# Returns the k-core of G.\n",
    "\n",
    "# define the range of k values\n",
    "k_values = range(1, 11)  # replace 11 with the maximum k value you are interested in + 1\n",
    "\n",
    "for k in k_values:\n",
    "    # compute the k-core\n",
    "    k_core = nx.k_core(undirected_G, k)\n",
    "    # convert the k-core to a list of nodes\n",
    "    k_core_nodes = list(k_core)\n",
    "    # print the nodes in the k-core\n",
    "    print(f\"The {k}-core contains the nodes: {k_core_nodes}\")"
   ],
   "metadata": {
    "collapsed": false
   }
  },
  {
   "cell_type": "code",
   "execution_count": 64,
   "outputs": [
    {
     "data": {
      "text/plain": "{'0': 2,\n '10': 2,\n '11': 2,\n '2': 4,\n '1': 4,\n '4': 4,\n '5': 4,\n '3': 2,\n '6': 3,\n '7': 4,\n '9': 1,\n '8': 3}"
     },
     "execution_count": 64,
     "metadata": {},
     "output_type": "execute_result"
    }
   ],
   "source": [
    "# Returns the core number for each vertex.\n",
    "nx.core_number(G)"
   ],
   "metadata": {
    "collapsed": false
   }
  },
  {
   "cell_type": "code",
   "execution_count": 65,
   "outputs": [
    {
     "name": "stdout",
     "output_type": "stream",
     "text": [
      "The 4-core contains the nodes: ['2', '7', '1', '4', '5']\n"
     ]
    },
    {
     "data": {
      "text/plain": "<Figure size 400x400 with 1 Axes>",
      "image/png": "[encoded data removed]"
     },
     "metadata": {},
     "output_type": "display_data"
    }
   ],
   "source": [
    "# define the range of k values\n",
    "k_values = range(1, 11)  # replace 11 with the maximum k value you are interested in + 1\n",
    "\n",
    "k_core_nodes = []\n",
    "k = 0\n",
    "\n",
    "# Find the last k-core with non-zero nodes\n",
    "for k in k_values:\n",
    "    # compute the k-core\n",
    "    k_core = nx.k_core(undirected_G, k)\n",
    "    # convert the k-core to a list of nodes\n",
    "    nodes = list(k_core)\n",
    "\n",
    "    if len(nodes) == 0:\n",
    "        break\n",
    "\n",
    "    k_core_nodes = nodes\n",
    "\n",
    "# Decrease k since we increased it one time too many in the loop\n",
    "k -= 1\n",
    "\n",
    "print(f\"The {k}-core contains the nodes: {k_core_nodes}\")\n",
    "\n",
    "# Create a color map for the nodes\n",
    "node_colors = [\"red\" if node in k_core_nodes else \"lightblue\" for node in undirected_G.nodes]\n",
    "\n",
    "# Similarly, create a color map for the edges\n",
    "edge_colors = [\"red\" if edge[0] in k_core_nodes and edge[1] in k_core_nodes else \"lightgrey\" for edge in undirected_G.edges]\n",
    "\n",
    "# Draw the graph\n",
    "plt.figure(figsize=(4, 4))\n",
    "nx.draw(undirected_G, node_color=node_colors, edge_color=edge_colors, with_labels=True)\n",
    "plt.show()"
   ],
   "metadata": {
    "collapsed": false
   }
  },
  {
   "cell_type": "code",
   "execution_count": 66,
   "outputs": [
    {
     "name": "stdout",
     "output_type": "stream",
     "text": [
      "Layer 1: ['9']\n",
      "Layer 2: ['10', '11', '3']\n",
      "Layer 3: ['0']\n",
      "Layer 4: ['6', '8']\n",
      "Layer 5: ['2', '1', '4', '5', '7']\n"
     ]
    },
    {
     "data": {
      "text/plain": "<Figure size 600x400 with 1 Axes>",
      "image/png": "[encoded data removed]"
     },
     "metadata": {},
     "output_type": "display_data"
    }
   ],
   "source": [
    "import matplotlib.patches as mpatches\n",
    "\n",
    "# Generate onion layers\n",
    "onion_layers = nx.onion_layers(undirected_G)\n",
    "\n",
    "# Get unique layers\n",
    "unique_layers = set(onion_layers.values())\n",
    "\n",
    "# Print layers\n",
    "for layer in sorted(unique_layers):\n",
    "    nodes_in_layer = [node for node, node_layer in onion_layers.items() if node_layer == layer]\n",
    "    print(f\"Layer {layer}: {nodes_in_layer}\")\n",
    "\n",
    "# Create a color map for nodes, based on their onion layer\n",
    "color_map = plt.get_cmap(\"Pastel1\")\n",
    "node_colors = [color_map(onion_layers[node]) for node in undirected_G.nodes()]\n",
    "\n",
    "# Draw the graph\n",
    "plt.figure(figsize=(6, 4))\n",
    "nx.draw(undirected_G, node_color=node_colors, with_labels=True)\n",
    "\n",
    "# Create a legend\n",
    "patches = [mpatches.Patch(color=color_map(layer), label=f'Layer {layer}') for layer in unique_layers]\n",
    "plt.legend(handles=patches, loc='upper left')\n",
    "\n",
    "plt.show()"
   ],
   "metadata": {
    "collapsed": false
   }
  },
  {
   "cell_type": "markdown",
   "source": [
    "# Boundary\n",
    "- subgraph - graph edge boundary\n",
    "- subgraph - subgraph edge boundary"
   ],
   "metadata": {
    "collapsed": false
   }
  },
  {
   "cell_type": "code",
   "execution_count": 67,
   "outputs": [
    {
     "data": {
      "text/plain": "[('2', '0'), ('2', '6'), ('7', '6'), ('7', '8'), ('4', '8'), ('4', '3')]"
     },
     "execution_count": 67,
     "metadata": {},
     "output_type": "execute_result"
    }
   ],
   "source": [
    "# subgraph - graph edge boundary\n",
    "layer_5 = [node for node, node_layer in onion_layers.items() if node_layer == 5]\n",
    "list(nx.edge_boundary(undirected_G, layer_5))"
   ],
   "metadata": {
    "collapsed": false
   }
  },
  {
   "cell_type": "code",
   "execution_count": 68,
   "outputs": [
    {
     "name": "stdout",
     "output_type": "stream",
     "text": [
      "Edges connecting layer_3 and layer_4:\n",
      "{('6', '7'), ('6', '2'), ('8', '4'), ('8', '7')}\n"
     ]
    }
   ],
   "source": [
    "# subgraph - subgraph edge boundary\n",
    "\n",
    "layer_4 = [node for node, node_layer in onion_layers.items() if node_layer == 4]\n",
    "\n",
    "# Retrieve edges connecting layer_3 and layer_4\n",
    "connecting_edges = set()\n",
    "for u in layer_4:\n",
    "    for v in layer_5:\n",
    "        if undirected_G.has_edge(u, v):\n",
    "            connecting_edges.add((u, v))\n",
    "\n",
    "# Print the connecting edges\n",
    "print(\"Edges connecting layer_3 and layer_4:\")\n",
    "print(connecting_edges)"
   ],
   "metadata": {
    "collapsed": false
   }
  },
  {
   "cell_type": "markdown",
   "source": [
    "# Bridges\n",
    "- has_bridges\n",
    "- bridges\n",
    "- local_bridges"
   ],
   "metadata": {
    "collapsed": false
   }
  },
  {
   "cell_type": "code",
   "execution_count": 69,
   "outputs": [
    {
     "data": {
      "text/plain": "True"
     },
     "execution_count": 69,
     "metadata": {},
     "output_type": "execute_result"
    }
   ],
   "source": [
    "# has_bridges\n",
    "\n",
    "nx.has_bridges(undirected_G)"
   ],
   "metadata": {
    "collapsed": false
   }
  },
  {
   "cell_type": "code",
   "execution_count": 70,
   "outputs": [
    {
     "data": {
      "text/plain": "<Figure size 400x400 with 1 Axes>",
      "image/png": "[encoded data removed]"
     },
     "metadata": {},
     "output_type": "display_data"
    }
   ],
   "source": [
    "# bridges\n",
    "\n",
    "# Obtain the list of bridge edges\n",
    "bridges = list(nx.bridges(undirected_G))\n",
    "\n",
    "# Create a color map for the edges\n",
    "edge_colors = []\n",
    "for edge in undirected_G.edges:\n",
    "    if edge in bridges:\n",
    "        edge_colors.append('red')  # Color for bridge edges\n",
    "    else:\n",
    "        edge_colors.append('lightgrey')  # Color for non-bridge edges\n",
    "\n",
    "# Draw the graph\n",
    "plt.figure(figsize=(4, 4))\n",
    "pos = nx.spring_layout(undirected_G)\n",
    "nx.draw(undirected_G, pos, with_labels=True, node_color='lightblue', edge_color=edge_colors)\n",
    "plt.show()"
   ],
   "metadata": {
    "collapsed": false
   }
  },
  {
   "cell_type": "code",
   "execution_count": 71,
   "outputs": [
    {
     "data": {
      "text/plain": "[('0', '2'), ('4', '3'), ('3', '6'), ('6', '9')]"
     },
     "execution_count": 71,
     "metadata": {},
     "output_type": "execute_result"
    }
   ],
   "source": [
    "# local_bridges\n",
    "\n",
    "# A local bridge is an edge whose endpoints have no common neighbors. That is, the edge is not part of a triangle in the graph.\n",
    "list(nx.local_bridges(undirected_G, with_span=False))"
   ],
   "metadata": {
    "collapsed": false
   }
  },
  {
   "cell_type": "markdown",
   "source": [
    "# Paths"
   ],
   "metadata": {
    "collapsed": false
   }
  },
  {
   "cell_type": "code",
   "execution_count": 72,
   "outputs": [
    {
     "data": {
      "text/plain": "[[('0', '11'), ('11', '10'), ('10', '0')],\n [('2', '1'), ('1', '5'), ('5', '2')],\n [('2', '4'), ('4', '1')],\n [('2', '7'), ('7', '4')],\n [('2', '6'), ('6', '7')],\n [('5', '4')],\n [('5', '7')],\n [('1', '7')],\n [('4', '3'), ('3', '6')],\n [('4', '8'), ('8', '6')],\n [('7', '8')]]"
     },
     "execution_count": 72,
     "metadata": {},
     "output_type": "execute_result"
    }
   ],
   "source": [
    "# https://networkx.org/documentation/stable/reference/algorithms/generated/networkx.algorithms.chains.chain_decomposition.html#networkx.algorithms.chains.chain_decomposition\n",
    "list(nx.chain_decomposition(undirected_G))"
   ],
   "metadata": {
    "collapsed": false
   }
  },
  {
   "cell_type": "code",
   "execution_count": 73,
   "outputs": [
    {
     "data": {
      "text/plain": "{'0': 1,\n '10': 1,\n '11': 1,\n '2': 7,\n '1': 6,\n '4': 7,\n '5': 6,\n '3': 0,\n '6': 2,\n '7': 9,\n '9': 0,\n '8': 2}"
     },
     "execution_count": 73,
     "metadata": {},
     "output_type": "execute_result"
    }
   ],
   "source": [
    "# Compute the number of triangles.\n",
    "nx.triangles(undirected_G)"
   ],
   "metadata": {
    "collapsed": false
   }
  },
  {
   "cell_type": "code",
   "execution_count": 74,
   "outputs": [
    {
     "data": {
      "text/plain": "0.5526315789473685"
     },
     "execution_count": 74,
     "metadata": {},
     "output_type": "execute_result"
    }
   ],
   "source": [
    "# Possible triangles are identified by the number of “triads” (two edges with a shared vertex).\n",
    "nx.transitivity(undirected_G)"
   ],
   "metadata": {
    "collapsed": false
   }
  },
  {
   "cell_type": "code",
   "execution_count": 75,
   "outputs": [],
   "source": [
    "# communities https://networkx.org/documentation/stable/reference/algorithms/community.html"
   ],
   "metadata": {
    "collapsed": false
   }
  },
  {
   "cell_type": "code",
   "execution_count": 76,
   "outputs": [],
   "source": [
    "# connectivity https://networkx.org/documentation/stable/reference/algorithms/connectivity.html"
   ],
   "metadata": {
    "collapsed": false
   }
  },
  {
   "cell_type": "code",
   "execution_count": 3,
   "outputs": [
    {
     "data": {
      "text/plain": "[]"
     },
     "execution_count": 3,
     "metadata": {},
     "output_type": "execute_result"
    }
   ],
   "source": [
    "# A simple cycle, or elementary circuit, is a closed path where no node appears twice. In a directed graph, two simple cycles are distinct if they are not cyclic permutations of each other. In an undirected graph, two simple cycles are distinct if they are not cyclic permutations of each other nor of the other’s reversal.\n",
    "\n",
    "list(nx.simple_cycles(G))"
   ],
   "metadata": {
    "collapsed": false
   }
  },
  {
   "cell_type": "code",
   "execution_count": 79,
   "outputs": [],
   "source": [
    "# link_prediction https://networkx.org/documentation/stable/reference/algorithms/link_prediction.html"
   ],
   "metadata": {
    "collapsed": false
   }
  },
  {
   "cell_type": "code",
   "execution_count": 4,
   "outputs": [
    {
     "data": {
      "text/plain": "0.0"
     },
     "execution_count": 4,
     "metadata": {},
     "output_type": "execute_result"
    }
   ],
   "source": [
    "nx.reciprocity(G)"
   ],
   "metadata": {
    "collapsed": false
   }
  },
  {
   "cell_type": "markdown",
   "source": [
    "# MODULARITY"
   ],
   "metadata": {
    "collapsed": false
   }
  },
  {
   "cell_type": "code",
   "execution_count": 5,
   "outputs": [
    {
     "data": {
      "text/plain": "array([[-0.20454545,  0.86363636,  0.86363636,  0.59090909, -0.27272727,\n        -0.40909091, -0.27272727, -0.13636364, -0.34090909, -0.40909091,\n        -0.06818182, -0.20454545],\n       [ 0.86363636, -0.09090909,  0.90909091, -0.27272727, -0.18181818,\n        -0.27272727, -0.18181818, -0.09090909, -0.22727273, -0.27272727,\n        -0.04545455, -0.13636364],\n       [ 0.86363636,  0.90909091, -0.09090909, -0.27272727, -0.18181818,\n        -0.27272727, -0.18181818, -0.09090909, -0.22727273, -0.27272727,\n        -0.04545455, -0.13636364],\n       [ 0.59090909, -0.27272727, -0.27272727, -0.81818182,  0.45454545,\n         0.18181818,  0.45454545, -0.27272727,  0.31818182,  0.18181818,\n        -0.13636364, -0.40909091],\n       [-0.27272727, -0.18181818, -0.18181818,  0.45454545, -0.36363636,\n         0.45454545,  0.63636364, -0.18181818, -0.45454545,  0.45454545,\n        -0.09090909, -0.27272727],\n       [-0.40909091, -0.27272727, -0.27272727,  0.18181818,  0.45454545,\n        -0.81818182,  0.45454545,  0.72727273, -0.68181818,  0.18181818,\n        -0.13636364,  0.59090909],\n       [-0.27272727, -0.18181818, -0.18181818,  0.45454545,  0.63636364,\n         0.45454545, -0.36363636, -0.18181818, -0.45454545,  0.45454545,\n        -0.09090909, -0.27272727],\n       [-0.13636364, -0.09090909, -0.09090909, -0.27272727, -0.18181818,\n         0.72727273, -0.18181818, -0.09090909,  0.77272727, -0.27272727,\n        -0.04545455, -0.13636364],\n       [-0.34090909, -0.22727273, -0.22727273,  0.31818182, -0.45454545,\n        -0.68181818, -0.45454545,  0.77272727, -0.56818182,  0.31818182,\n         0.88636364,  0.65909091],\n       [-0.40909091, -0.27272727, -0.27272727,  0.18181818,  0.45454545,\n         0.18181818,  0.45454545, -0.27272727,  0.31818182, -0.81818182,\n        -0.13636364,  0.59090909],\n       [-0.06818182, -0.04545455, -0.04545455, -0.13636364, -0.09090909,\n        -0.13636364, -0.09090909, -0.04545455,  0.88636364, -0.13636364,\n        -0.02272727, -0.06818182],\n       [-0.20454545, -0.13636364, -0.13636364, -0.40909091, -0.27272727,\n         0.59090909, -0.27272727, -0.13636364,  0.65909091,  0.59090909,\n        -0.06818182, -0.20454545]])"
     },
     "execution_count": 5,
     "metadata": {},
     "output_type": "execute_result"
    }
   ],
   "source": [
    "# TODO: check if graph connected\n",
    "nx.modularity_matrix(undirected_G)"
   ],
   "metadata": {
    "collapsed": false
   }
  },
  {
   "cell_type": "markdown",
   "source": [
    "# EDGE BETWEENNESS"
   ],
   "metadata": {
    "collapsed": false
   }
  },
  {
   "cell_type": "code",
   "execution_count": null,
   "outputs": [],
   "source": [
    "# takes only 2000 nodes?\n",
    "\n",
    "%%time\n",
    "edge_betweenness = nx.edge_betweenness_centrality(G, k=2000)"
   ],
   "metadata": {
    "collapsed": false
   }
  }
 ],
 "metadata": {
  "kernelspec": {
   "display_name": "Python 3",
   "language": "python",
   "name": "python3"
  },
  "language_info": {
   "codemirror_mode": {
    "name": "ipython",
    "version": 2
   },
   "file_extension": ".py",
   "mimetype": "text/x-python",
   "name": "python",
   "nbconvert_exporter": "python",
   "pygments_lexer": "ipython2",
   "version": "2.7.6"
  }
 },
 "nbformat": 4,
 "nbformat_minor": 0
}
